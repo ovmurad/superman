{
 "cells": [
  {
   "cell_type": "code",
   "execution_count": 2,
   "id": "666b0b7f",
   "metadata": {},
   "outputs": [],
   "source": [
    "from matplotlib import pyplot as plt\n",
    "import numpy as np\n",
    "from src.data.load_data import load_s_curve\n",
    "from src.geometry.embedding import laplacian_embedding\n",
    "from src.geometry.matrix.laplacian import LaplacianMatrix\n",
    "from src.geometry.points import Embedding\n",
    "from src.linalg.covariance import Covariance\n",
    "from src.linalg.rmetric import RMetric\n",
    "from src.model.spectral_embedding import SpectralEmbedding\n",
    "from src.utils.covar_plotter import plot_eigen_ellipse\n",
    "\n",
    "n_plot = 70\n",
    "rng = np.random.RandomState(8675309)\n",
    "N = 2500\n",
    "\n",
    "points_coords = load_s_curve(N, random_state=0)\n",
    "points = points_coords[0]\n",
    "sp = SpectralEmbedding(0.84, 20, eigen_solver=\"dense\")\n",
    "emb = sp.fit(points, save=True)\n",
    "\n",
    "emb_vec = emb.eigenvectors\n",
    "np_emb_vec = emb_vec.as_nparray()\n",
    "np_points = points.as_nparray()\n",
    "\n",
    "rm = RMetric.local(emb_vec, lap=sp.lap_mat)\n",
    "vec1 = 0\n",
    "vec2 = 1\n",
    "\n",
    "f, ax = plt.subplots()\n",
    "ax.scatter(np_emb_vec[:,vec1], np_emb_vec[:,vec2], c=points_coords[1].as_nparray(), s=1)\n",
    "ax.set_aspect('equal')\n",
    "\n",
    "sample_points = rng.choice(range(N), n_plot, replace = False)\n",
    "\n",
    "for i in range(n_plot):\n",
    "    ii = sample_points[i]\n",
    "    plot_eigen_ellipse(0.0001 * rm.eigenvalues[i][0:2].as_nparray(), rm.eigenvectors[i][0:2].as_nparray(), [np_emb_vec[ii,vec1], np_emb_vec[ii,vec2]] ,ax=ax, edgecolor='none', alpha = 0.5)\n",
    "plt.savefig(\"tutorial_isomap_plot.png\", format='png', bbox_inches='tight', dpi=500)\n",
    "plt.close()\n"
   ]
  }
 ],
 "metadata": {
  "kernelspec": {
   "display_name": "superman-IVsbg8GD-py3.12",
   "language": "python",
   "name": "python3"
  },
  "language_info": {
   "codemirror_mode": {
    "name": "ipython",
    "version": 3
   },
   "file_extension": ".py",
   "mimetype": "text/x-python",
   "name": "python",
   "nbconvert_exporter": "python",
   "pygments_lexer": "ipython3",
   "version": "3.12.10"
  }
 },
 "nbformat": 4,
 "nbformat_minor": 5
}
