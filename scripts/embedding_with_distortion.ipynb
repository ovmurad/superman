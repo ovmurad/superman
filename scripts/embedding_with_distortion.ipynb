{
 "cells": [
  {
   "cell_type": "code",
   "execution_count": 1,
   "id": "666b0b7f",
   "metadata": {},
   "outputs": [
    {
     "ename": "KeyboardInterrupt",
     "evalue": "",
     "output_type": "error",
     "traceback": [
      "\u001b[31m---------------------------------------------------------------------------\u001b[39m",
      "\u001b[31mKeyboardInterrupt\u001b[39m                         Traceback (most recent call last)",
      "\u001b[36mCell\u001b[39m\u001b[36m \u001b[39m\u001b[32mIn[1]\u001b[39m\u001b[32m, line 19\u001b[39m\n\u001b[32m     17\u001b[39m points = points_coords[\u001b[32m0\u001b[39m]\n\u001b[32m     18\u001b[39m sp = SpectralEmbedding(\u001b[32m0.84\u001b[39m, \u001b[32m20\u001b[39m, eigen_solver=\u001b[33m\"\u001b[39m\u001b[33mdense\u001b[39m\u001b[33m\"\u001b[39m)\n\u001b[32m---> \u001b[39m\u001b[32m19\u001b[39m emb = \u001b[43msp\u001b[49m\u001b[43m.\u001b[49m\u001b[43mfit\u001b[49m\u001b[43m(\u001b[49m\u001b[43mpoints\u001b[49m\u001b[43m,\u001b[49m\u001b[43m \u001b[49m\u001b[43msave\u001b[49m\u001b[43m=\u001b[49m\u001b[38;5;28;43;01mTrue\u001b[39;49;00m\u001b[43m)\u001b[49m\n\u001b[32m     21\u001b[39m emb_vec = emb.eigenvectors\n\u001b[32m     22\u001b[39m np_emb_vec = emb_vec.as_nparray()\n",
      "\u001b[36mFile \u001b[39m\u001b[32mC:\\superman\\src\\model\\spectral_embedding.py:128\u001b[39m, in \u001b[36mSpectralEmbedding.fit\u001b[39m\u001b[34m(self, data, save)\u001b[39m\n\u001b[32m    126\u001b[39m     \u001b[38;5;28;01mif\u001b[39;00m save: \u001b[38;5;28mself\u001b[39m.lap_mat = data\n\u001b[32m    127\u001b[39m \u001b[38;5;28;01mif\u001b[39;00m \u001b[38;5;28misinstance\u001b[39m(data, LaplacianMatrix):\n\u001b[32m--> \u001b[39m\u001b[32m128\u001b[39m     lap_emb = \u001b[43mlaplacian_embedding\u001b[49m\u001b[43m(\u001b[49m\n\u001b[32m    129\u001b[39m \u001b[43m        \u001b[49m\u001b[43mdata\u001b[49m\u001b[43m,\u001b[49m\n\u001b[32m    130\u001b[39m \u001b[43m        \u001b[49m\u001b[38;5;28;43mself\u001b[39;49m\u001b[43m.\u001b[49m\u001b[43mn_components\u001b[49m\u001b[43m \u001b[49m\u001b[43m+\u001b[49m\u001b[43m \u001b[49m\u001b[38;5;28;43mint\u001b[39;49m\u001b[43m(\u001b[49m\u001b[38;5;28;43mself\u001b[39;49m\u001b[43m.\u001b[49m\u001b[43mdrop_first\u001b[49m\u001b[43m)\u001b[49m\u001b[43m,\u001b[49m\n\u001b[32m    131\u001b[39m \u001b[43m        \u001b[49m\u001b[38;5;28;43mself\u001b[39;49m\u001b[43m.\u001b[49m\u001b[43mlap_type\u001b[49m\u001b[43m,\u001b[49m\n\u001b[32m    132\u001b[39m \u001b[43m        \u001b[49m\u001b[43mdrop_first\u001b[49m\u001b[43m=\u001b[49m\u001b[38;5;28;43;01mFalse\u001b[39;49;00m\u001b[43m,\u001b[49m\n\u001b[32m    133\u001b[39m \u001b[43m        \u001b[49m\u001b[43min_place\u001b[49m\u001b[43m=\u001b[49m\u001b[38;5;129;43;01mnot\u001b[39;49;00m\u001b[43m \u001b[49m\u001b[43msave\u001b[49m\u001b[43m,\u001b[49m\n\u001b[32m    134\u001b[39m \u001b[43m        \u001b[49m\u001b[43m*\u001b[49m\u001b[43m*\u001b[49m\u001b[38;5;28;43mself\u001b[39;49m\u001b[43m.\u001b[49m\u001b[43msolver_kwds\u001b[49m\u001b[43m,\u001b[49m\n\u001b[32m    135\u001b[39m \u001b[43m    \u001b[49m\u001b[43m)\u001b[49m\n\u001b[32m    137\u001b[39m     \u001b[38;5;28;01mif\u001b[39;00m \u001b[38;5;28mself\u001b[39m.diffusion_maps:\n\u001b[32m    138\u001b[39m         lap_emb = compute_diffusion_maps(lap_emb, \u001b[38;5;28mself\u001b[39m.diffusion_time)\n",
      "\u001b[36mFile \u001b[39m\u001b[32mC:\\superman\\src\\geometry\\embedding\\laplacian_embedding.py:50\u001b[39m, in \u001b[36mlaplacian_embedding\u001b[39m\u001b[34m(mat, ncomp, lap_type, eigen_solver, drop_first, in_place, largest, **kwargs)\u001b[39m\n\u001b[32m     46\u001b[39m     \u001b[38;5;28;01mreturn\u001b[39;00m _aff_laplacian_embedding(\n\u001b[32m     47\u001b[39m         mat, ncomp, lap_type, eigen_solver, drop_first, in_place, largest, **kwargs\n\u001b[32m     48\u001b[39m     )\n\u001b[32m     49\u001b[39m \u001b[38;5;28;01melif\u001b[39;00m \u001b[38;5;28misinstance\u001b[39m(mat, LaplacianMatrix):\n\u001b[32m---> \u001b[39m\u001b[32m50\u001b[39m     \u001b[38;5;28;01mreturn\u001b[39;00m \u001b[43m_lap_laplacian_embedding\u001b[49m\u001b[43m(\u001b[49m\n\u001b[32m     51\u001b[39m \u001b[43m        \u001b[49m\u001b[43mmat\u001b[49m\u001b[43m,\u001b[49m\u001b[43m \u001b[49m\u001b[43mncomp\u001b[49m\u001b[43m,\u001b[49m\u001b[43m \u001b[49m\u001b[43meigen_solver\u001b[49m\u001b[43m,\u001b[49m\u001b[43m \u001b[49m\u001b[43mdrop_first\u001b[49m\u001b[43m,\u001b[49m\u001b[43m \u001b[49m\u001b[43mlargest\u001b[49m\u001b[43m,\u001b[49m\u001b[43m \u001b[49m\u001b[43m*\u001b[49m\u001b[43m*\u001b[49m\u001b[43mkwargs\u001b[49m\n\u001b[32m     52\u001b[39m \u001b[43m    \u001b[49m\u001b[43m)\u001b[49m\n\u001b[32m     53\u001b[39m \u001b[38;5;28;01mraise\u001b[39;00m \u001b[38;5;167;01mValueError\u001b[39;00m(\u001b[33mf\u001b[39m\u001b[33m\"\u001b[39m\u001b[33mMatrix of type \u001b[39m\u001b[38;5;132;01m{\u001b[39;00m\u001b[38;5;28mtype\u001b[39m(mat)\u001b[38;5;132;01m}\u001b[39;00m\u001b[33m not recognized!\u001b[39m\u001b[33m\"\u001b[39m)\n",
      "\u001b[36mFile \u001b[39m\u001b[32mC:\\superman\\src\\geometry\\embedding\\laplacian_embedding.py:78\u001b[39m, in \u001b[36m_lap_laplacian_embedding\u001b[39m\u001b[34m(lap, ncomp, eigen_solver, drop_first, largest, **kwargs)\u001b[39m\n\u001b[32m     64\u001b[39m \u001b[38;5;250m\u001b[39m\u001b[33;03m\"\"\"\u001b[39;00m\n\u001b[32m     65\u001b[39m \u001b[33;03mCompute the Laplacian embedding given a precomputed Laplacian matrix.\u001b[39;00m\n\u001b[32m     66\u001b[39m \n\u001b[32m   (...)\u001b[39m\u001b[32m     73\u001b[39m \u001b[33;03m:return: A tuple of eigenvalues and eigenvectors.\u001b[39;00m\n\u001b[32m     74\u001b[39m \u001b[33;03m\"\"\"\u001b[39;00m\n\u001b[32m     76\u001b[39m md: Metadata = lap.metadata\n\u001b[32m---> \u001b[39m\u001b[32m78\u001b[39m eigvals, eigvecs = \u001b[43meigen_decomp\u001b[49m\u001b[43m(\u001b[49m\n\u001b[32m     79\u001b[39m \u001b[43m    \u001b[49m\u001b[43marr\u001b[49m\u001b[43m=\u001b[49m\u001b[43mlap\u001b[49m\u001b[43m.\u001b[49m\u001b[43mas_nparray\u001b[49m\u001b[43m(\u001b[49m\u001b[43m)\u001b[49m\u001b[43m \u001b[49m\u001b[43m*\u001b[49m\u001b[43m \u001b[49m\u001b[43m-\u001b[49m\u001b[32;43m1.0\u001b[39;49m\u001b[43m \u001b[49m\u001b[38;5;28;43;01mif\u001b[39;49;00m\u001b[43m \u001b[49m\u001b[43mlap\u001b[49m\u001b[43m.\u001b[49m\u001b[43mmetadata\u001b[49m\u001b[43m.\u001b[49m\u001b[43maff_minus_id\u001b[49m\u001b[43m \u001b[49m\u001b[38;5;28;43;01melse\u001b[39;49;00m\u001b[43m \u001b[49m\u001b[43mlap\u001b[49m\u001b[43m.\u001b[49m\u001b[43mas_nparray\u001b[49m\u001b[43m(\u001b[49m\u001b[43m)\u001b[49m\u001b[43m,\u001b[49m\n\u001b[32m     80\u001b[39m \u001b[43m    \u001b[49m\u001b[43mncomp\u001b[49m\u001b[43m=\u001b[49m\u001b[43mncomp\u001b[49m\u001b[43m \u001b[49m\u001b[43m+\u001b[49m\u001b[43m \u001b[49m\u001b[38;5;28;43mint\u001b[39;49m\u001b[43m(\u001b[49m\u001b[43mdrop_first\u001b[49m\u001b[43m)\u001b[49m\u001b[43m,\u001b[49m\n\u001b[32m     81\u001b[39m \u001b[43m    \u001b[49m\u001b[43meigen_solver\u001b[49m\u001b[43m=\u001b[49m\u001b[43meigen_solver\u001b[49m\u001b[43m,\u001b[49m\n\u001b[32m     82\u001b[39m \u001b[43m    \u001b[49m\u001b[43mis_symmetric\u001b[49m\u001b[43m=\u001b[49m\u001b[43mlap\u001b[49m\u001b[43m.\u001b[49m\u001b[43mmetadata\u001b[49m\u001b[43m.\u001b[49m\u001b[43mlap_type\u001b[49m\u001b[43m \u001b[49m\u001b[38;5;129;43;01min\u001b[39;49;00m\u001b[43m \u001b[49m\u001b[43mSYM_LAPLACIAN_TYPES\u001b[49m\u001b[43m,\u001b[49m\n\u001b[32m     83\u001b[39m \u001b[43m    \u001b[49m\u001b[43mlargest\u001b[49m\u001b[43m=\u001b[49m\u001b[43mlargest\u001b[49m\u001b[43m,\u001b[49m\n\u001b[32m     84\u001b[39m \u001b[43m    \u001b[49m\u001b[43m*\u001b[49m\u001b[43m*\u001b[49m\u001b[43mkwargs\u001b[49m\u001b[43m,\u001b[49m\n\u001b[32m     85\u001b[39m \u001b[43m\u001b[49m\u001b[43m)\u001b[49m\n\u001b[32m     87\u001b[39m \u001b[38;5;28;01mif\u001b[39;00m drop_first:\n\u001b[32m     88\u001b[39m     eigvals = eigvals[\u001b[32m1\u001b[39m:]\n",
      "\u001b[36mFile \u001b[39m\u001b[32mC:\\superman\\src\\array\\linalg\\eigen_decomp.py:44\u001b[39m, in \u001b[36meigen_decomp\u001b[39m\u001b[34m(arr, ncomp, eigen_solver, is_symmetric, largest, **kwargs)\u001b[39m\n\u001b[32m     41\u001b[39m     \u001b[38;5;28;01mraise\u001b[39;00m \u001b[38;5;167;01mValueError\u001b[39;00m(\u001b[33m\"\u001b[39m\u001b[33m'\u001b[39m\u001b[33mdense\u001b[39m\u001b[33m'\u001b[39m\u001b[33m eigen solver requires dense matrices!\u001b[39m\u001b[33m\"\u001b[39m)\n\u001b[32m     43\u001b[39m eig_func = eigh \u001b[38;5;28;01mif\u001b[39;00m is_symmetric \u001b[38;5;28;01melse\u001b[39;00m eig\n\u001b[32m---> \u001b[39m\u001b[32m44\u001b[39m eigvals, eigvecs = \u001b[43meig_func\u001b[49m\u001b[43m(\u001b[49m\u001b[43marr\u001b[49m\u001b[43m,\u001b[49m\u001b[43m \u001b[49m\u001b[43m*\u001b[49m\u001b[43m*\u001b[49m\u001b[43mkwargs\u001b[49m\u001b[43m)\u001b[49m\n\u001b[32m     46\u001b[39m \u001b[38;5;28;01mif\u001b[39;00m largest:  \u001b[38;5;66;03m# eigh always returns eigenvalues in ascending order\u001b[39;00m\n\u001b[32m     47\u001b[39m     eigvals = eigvals[..., ::-\u001b[32m1\u001b[39m]  \u001b[38;5;66;03m# reverse order the e-values\u001b[39;00m\n",
      "\u001b[36mFile \u001b[39m\u001b[32mc:\\Users\\marcu\\AppData\\Local\\pypoetry\\Cache\\virtualenvs\\superman-IVsbg8GD-py3.12\\Lib\\site-packages\\numpy\\linalg\\_linalg.py:1472\u001b[39m, in \u001b[36meig\u001b[39m\u001b[34m(a)\u001b[39m\n\u001b[32m   1468\u001b[39m signature = \u001b[33m'\u001b[39m\u001b[33mD->DD\u001b[39m\u001b[33m'\u001b[39m \u001b[38;5;28;01mif\u001b[39;00m isComplexType(t) \u001b[38;5;28;01melse\u001b[39;00m \u001b[33m'\u001b[39m\u001b[33md->DD\u001b[39m\u001b[33m'\u001b[39m\n\u001b[32m   1469\u001b[39m \u001b[38;5;28;01mwith\u001b[39;00m errstate(call=_raise_linalgerror_eigenvalues_nonconvergence,\n\u001b[32m   1470\u001b[39m               invalid=\u001b[33m'\u001b[39m\u001b[33mcall\u001b[39m\u001b[33m'\u001b[39m, over=\u001b[33m'\u001b[39m\u001b[33mignore\u001b[39m\u001b[33m'\u001b[39m, divide=\u001b[33m'\u001b[39m\u001b[33mignore\u001b[39m\u001b[33m'\u001b[39m,\n\u001b[32m   1471\u001b[39m               under=\u001b[33m'\u001b[39m\u001b[33mignore\u001b[39m\u001b[33m'\u001b[39m):\n\u001b[32m-> \u001b[39m\u001b[32m1472\u001b[39m     w, vt = \u001b[43m_umath_linalg\u001b[49m\u001b[43m.\u001b[49m\u001b[43meig\u001b[49m\u001b[43m(\u001b[49m\u001b[43ma\u001b[49m\u001b[43m,\u001b[49m\u001b[43m \u001b[49m\u001b[43msignature\u001b[49m\u001b[43m=\u001b[49m\u001b[43msignature\u001b[49m\u001b[43m)\u001b[49m\n\u001b[32m   1474\u001b[39m \u001b[38;5;28;01mif\u001b[39;00m \u001b[38;5;129;01mnot\u001b[39;00m isComplexType(t) \u001b[38;5;129;01mand\u001b[39;00m \u001b[38;5;28mall\u001b[39m(w.imag == \u001b[32m0.0\u001b[39m):\n\u001b[32m   1475\u001b[39m     w = w.real\n",
      "\u001b[31mKeyboardInterrupt\u001b[39m: "
     ]
    }
   ],
   "source": [
    "from matplotlib import pyplot as plt\n",
    "import numpy as np\n",
    "from src.data.load_data import load_s_curve\n",
    "from src.geometry.embedding import laplacian_embedding\n",
    "from src.geometry.matrix.laplacian import LaplacianMatrix\n",
    "from src.geometry.points import Embedding\n",
    "from src.linalg.covariance import Covariance\n",
    "from src.linalg.rmetric import RMetric\n",
    "from src.model.spectral_embedding import SpectralEmbedding\n",
    "from src.utils.covar_plotter import plot_eigen_ellipse\n",
    "\n",
    "n_plot = 70\n",
    "rng = np.random.RandomState(8675309)\n",
    "N = 2500\n",
    "\n",
    "points_coords = load_s_curve(N, random_state=0)\n",
    "points = points_coords[0]\n",
    "sp = SpectralEmbedding(0.84, 20, eigen_solver=\"dense\")\n",
    "emb = sp.fit(points, save=True)\n",
    "\n",
    "emb_vec = emb.eigenvectors\n",
    "np_emb_vec = emb_vec.as_nparray()\n",
    "np_points = points.as_nparray()\n",
    "\n",
    "rm = RMetric.local(emb_vec, lap=sp.lap_mat)\n",
    "vec1 = 0\n",
    "vec2 = 1\n",
    "\n",
    "f, ax = plt.subplots()\n",
    "ax.scatter(np_emb_vec[:,vec1], np_emb_vec[:,vec2], c=points_coords[1].as_nparray(), s=1)\n",
    "ax.set_aspect('equal')\n",
    "\n",
    "sample_points = rng.choice(range(N), n_plot, replace = False)\n",
    "\n",
    "for i in range(n_plot):\n",
    "    ii = sample_points[i]\n",
    "    plot_eigen_ellipse(0.0001 * rm.eigenvalues[i][0:2].as_nparray(), rm.eigenvectors[i][0:2].as_nparray(), [np_emb_vec[ii,vec1], np_emb_vec[ii,vec2]] ,ax=ax, edgecolor='none', alpha = 0.5)\n",
    "plt.savefig(\"tutorial_isomap_plot.png\", format='png', bbox_inches='tight', dpi=500)\n",
    "plt.close()\n"
   ]
  }
 ],
 "metadata": {
  "kernelspec": {
   "display_name": "superman-IVsbg8GD-py3.12",
   "language": "python",
   "name": "python3"
  },
  "language_info": {
   "codemirror_mode": {
    "name": "ipython",
    "version": 3
   },
   "file_extension": ".py",
   "mimetype": "text/x-python",
   "name": "python",
   "nbconvert_exporter": "python",
   "pygments_lexer": "ipython3",
   "version": "3.12.10"
  }
 },
 "nbformat": 4,
 "nbformat_minor": 5
}
